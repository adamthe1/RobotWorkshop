{
 "cells": [
  {
   "cell_type": "code",
   "execution_count": null,
   "id": "7a392d45",
   "metadata": {},
   "outputs": [],
   "source": [
    "import pandas as pd\n",
    "df = pd.read_parquet('/home/adam/Documents/coding/autonomous/finetuning/datasets/panda_teleop_dataset/data/chunk-000/episode_000000.parquet')\n",
    "df"
   ]
  }
 ],
 "metadata": {
  "kernelspec": {
   "display_name": "venv",
   "language": "python",
   "name": "python3"
  },
  "language_info": {
   "name": "python",
   "version": "3.10.12"
  }
 },
 "nbformat": 4,
 "nbformat_minor": 5
}
